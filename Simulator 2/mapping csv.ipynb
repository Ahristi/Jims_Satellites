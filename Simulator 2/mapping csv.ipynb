{
 "cells": [
  {
   "cell_type": "code",
   "execution_count": 12,
   "metadata": {},
   "outputs": [
    {
     "data": {
      "text/html": [
       "\n",
       "            <style>\n",
       "                .geemap-dark {\n",
       "                    --jp-widgets-color: white;\n",
       "                    --jp-widgets-label-color: white;\n",
       "                    --jp-ui-font-color1: white;\n",
       "                    --jp-layout-color2: #454545;\n",
       "                    background-color: #383838;\n",
       "                }\n",
       "                    \n",
       "                .geemap-dark .jupyter-button {\n",
       "                    --jp-layout-color3: #383838;\n",
       "                }\n",
       "                \n",
       "                .geemap-colab {\n",
       "                    background-color: var(--colab-primary-surface-color, white);\n",
       "                }\n",
       "                    \n",
       "                .geemap-colab .jupyter-button {\n",
       "                    --jp-layout-color3: var(--colab-primary-surface-color, white);\n",
       "                }\n",
       "            </style>\n",
       "            "
      ],
      "text/plain": [
       "<IPython.core.display.HTML object>"
      ]
     },
     "metadata": {},
     "output_type": "display_data"
    }
   ],
   "source": [
    "import geemap\n",
    "import folium\n",
    "import ee\n",
    "import os\n",
    "\n",
    "\n",
    "import numpy as np\n",
    "import palettable \n",
    "import numpy as np\n",
    "from Satellite import *\n",
    "from Simulator import *\n",
    "service_account = \"jims-948@jimssatellites.iam.gserviceaccount.com\"\n",
    "key_path = 'jimssatellites-25b0240d5cf2.json'\n",
    "credentials = ee.ServiceAccountCredentials(service_account, key_path)\n",
    "ee.Initialize(credentials=credentials)\n",
    "\n",
    "\n",
    "\n",
    "count = 0\n",
    "import csv\n",
    "sat1 = Satellite(\"Satellites/sat1.txt\", \"SAT1\")\n",
    "sat2 = Satellite(\"Satellites/sat2.txt\", \"SAT2\")\n",
    "sat3 = Satellite(\"Satellites/sat3.txt\", \"SAT3\")\n",
    "sat4 = Satellite(\"Satellites/sat4.txt\", \"SAT4\")\n",
    "sat5 = Satellite(\"Satellites/sat5.txt\", \"SAT5\")\n",
    "sat6 = Satellite(\"Satellites/sat6.txt\", \"SAT6\")  \n",
    "sat7 = Satellite(\"Satellites/sat7.txt\", \"SAT7\")\n",
    "sat8 = Satellite(\"Satellites/sat8.txt\", \"SAT8\")\n",
    "sat9 = Satellite(\"Satellites/sat9.txt\", \"SAT9\")  \n",
    "sat10 = Satellite(\"Satellites/sat10.txt\", \"SAT10\")\n",
    "sat11 = Satellite(\"Satellites/sat11.txt\", \"SAT11\")\n",
    "sat12 = Satellite(\"Satellites/sat12.txt\", \"SAT12\")\n",
    "\n",
    "satellites = [sat1,sat2,sat3,sat4,sat5,sat6,sat7,sat8,sat9,sat10,sat11,sat12]\n",
    "\n",
    "count = 0\n",
    "mappingArray = []\n",
    "for sat in satellites:\n",
    "    csv_file = \"RESULTS_\"+sat.name+\".csv\"\n",
    "    count \n",
    "    with open(csv_file, mode='r', newline='') as file:\n",
    "        reader = csv.reader(file)  \n",
    "        i = 0\n",
    "        for row in reader:\n",
    "            coord1a, coord1b,  coord4a, coord4b, error = [float(param) for param in row]\n",
    "            roi = ee.Geometry.Rectangle([[coord1a, coord1b],  [coord4a, coord4b]])\n",
    "            newFeature = ee.Feature(roi, {'name': str(count)})\n",
    "            count = count+1\n",
    "            mappingArray.append(newFeature)\n",
    "            count+=1\n",
    "\n",
    "\n"
   ]
  },
  {
   "cell_type": "code",
   "execution_count": 16,
   "metadata": {},
   "outputs": [
    {
     "data": {
      "text/html": [
       "\n",
       "            <style>\n",
       "                .geemap-dark {\n",
       "                    --jp-widgets-color: white;\n",
       "                    --jp-widgets-label-color: white;\n",
       "                    --jp-ui-font-color1: white;\n",
       "                    --jp-layout-color2: #454545;\n",
       "                    background-color: #383838;\n",
       "                }\n",
       "                    \n",
       "                .geemap-dark .jupyter-button {\n",
       "                    --jp-layout-color3: #383838;\n",
       "                }\n",
       "                \n",
       "                .geemap-colab {\n",
       "                    background-color: var(--colab-primary-surface-color, white);\n",
       "                }\n",
       "                    \n",
       "                .geemap-colab .jupyter-button {\n",
       "                    --jp-layout-color3: var(--colab-primary-surface-color, white);\n",
       "                }\n",
       "            </style>\n",
       "            "
      ],
      "text/plain": [
       "<IPython.core.display.HTML object>"
      ]
     },
     "metadata": {},
     "output_type": "display_data"
    },
    {
     "name": "stdout",
     "output_type": "stream",
     "text": [
      "The provided color (000000,FF0000) is invalid. Using the default black color.\n",
      "'#000000,FF0000' is not in web format. Need 3 or 6 hex digit.\n"
     ]
    },
    {
     "data": {
      "application/vnd.jupyter.widget-view+json": {
       "model_id": "a173b2e391d740cc83a3d960b96bf3b1",
       "version_major": 2,
       "version_minor": 0
      },
      "text/plain": [
       "Map(center=[0, 0], controls=(WidgetControl(options=['position', 'transparent_bg'], widget=SearchDataGUI(childr…"
      ]
     },
     "execution_count": 16,
     "metadata": {},
     "output_type": "execute_result"
    }
   ],
   "source": [
    "\n",
    "# Create an interactive map\n",
    "Map = geemap.Map(center=[0, 0], zoom=2)\n",
    "mappedArea = ee.FeatureCollection(mappingArray)\n",
    "NSW = ee.Geometry.Rectangle([[144.81577841465915, -36.42295520530404], [155.81727106335805, -27.806830550620564]])\n",
    "# Create an image collection for Sentinel-2 data\n",
    "start_date = '2019-06-01'\n",
    "end_date = '2020-05-31'\n",
    "sentinel2_collection = (ee.ImageCollection('COPERNICUS/S2_SR')\n",
    "                        .filterDate(ee.Date(start_date), ee.Date(end_date))\n",
    "                        .filterBounds(mappedArea)\n",
    "                        .select('B.*|MSK_CLDPRB|SCL')\n",
    ")\n",
    "burnedArea = ee.Image('projects/jimssatellites/assets/fires')\n",
    "nir = sentinel2_collection.select('B8')  # Near-Infrared Band (B8)\n",
    "swir1 = sentinel2_collection.select('B11')  # Short-Wave Infrared Band 1 (B11)\n",
    "swir2 = sentinel2_collection.select('B12')  # Short-Wave Infrared Band 2 (B12)\n",
    "\n",
    "\n",
    "##CREATE THE BLACK MASK\n",
    "\n",
    "roi = ee.Geometry.Rectangle([ 146,-35.36,  158.6, -30.83])\n",
    "#I have no idea why, but for some reason this just paints everything so I'm gonna cop for now\n",
    "mask = ee.Image(0).toInt8().paint(roi, 1)\n",
    "fc = ee.FeatureCollection(mappingArray)\n",
    "# Fill and outline the polygons in two colors\n",
    "filled = mask.paint(fc, 2)\n",
    "both = filled.paint(fc, 1, 5)\n",
    "# Mask off everything that matches the fill color.\n",
    "result = both.mask(filled.neq(2))\n",
    "\n",
    "\n",
    "nir_palette = ['000000', '330000', '660000', '990000', 'CC0000', 'FF0000', 'FF1900', 'FF3200', 'FF4B00', 'FF6400',\n",
    "              'FF7D00', 'FF9600', 'FFAF00', 'FFC800', 'FFE100', 'FFFF00']\n",
    "# Create a visualization palette\n",
    "vis_params = {\n",
    "    'min': 0,\n",
    "    'max': 3000,\n",
    "    'bands': ['B8', 'B11', 'B12']\n",
    "}\n",
    "# Define visualization parameters for each band\n",
    "nir_vis_params = {\n",
    "    'min': 0,\n",
    "    'max': 10000,\n",
    "    'palette': nir_palette  # Apply the custom color palette for NIR\n",
    "}\n",
    "#Map.addLayer(sentinel2_collection, vis_params, 'Sentinel-2 Image')\n",
    "#Map.addLayer(nir, nir_vis_params, 'NIR')\n",
    "\n",
    "#Short wave infrared\n",
    "#Map.addLayer(swir1, nir_vis_params, 'SWIR1')\n",
    "\n",
    "\n",
    "burnedVisParams = {\n",
    "    'min': 0,\n",
    "    'max': 1000,\n",
    "    'palette': [  '000004', '080005', '0e0b05', '161007', '1b1206', '201606', '251d07',\n",
    "  '292606', '2d2c08', '313307', '353a08', '393f0a', '3d440b', '41490c',\n",
    "  '444e0d', '47520e', '4a560f', '4c5b10', '4f5f11', '526311', '556812',\n",
    "  '576c13', '596f14', '5b7315', '5d7616', '5f7a17', '617d18', '638119',\n",
    "  '65851a', '67881b', '698b1c', '6a8e1d', '6c921e', '6d9520', '6f9821',\n",
    "  '719b22', '729e23', '74a124', '75a425', '77a726', '78aa28', '79ad29',\n",
    "  '7ba02a', '7ca32c', '7da62d', '7ea92f', '7fac30', '80af32', '81b234',\n",
    "  '82b536', '83b838', '84bb3a', '85be3b', '86c13d', '87c440', '88c742',\n",
    "  '89ca44', '8acc47', '8bcd49', '8cd04b', '8dd34e', '8ed550', '8fd753',\n",
    "  '90da55', '91dc57', '92df5a', '93e25c', '94e45f', '95e762', '96e964',\n",
    "  '97ec67', '98ee6a', '99f06c', '9af36f', '9bf572', '9cf775', '9df978',\n",
    "  '9efc7b', 'a0fe7e']\n",
    "}\n",
    "\n",
    "\n",
    "#Burned Area\n",
    "Map.addLayer(burnedArea, burnedVisParams)\n",
    "\n",
    "#Black mask\n",
    "Map.addLayer(result, {\n",
    "    'palette': '000000,FF0000',\n",
    "    'max': 1,\n",
    "    'opacity': 1.0\n",
    "}, 'Opaque White Rectangle')\n",
    "#Map.addLayer(swir2, {'min': 0, 'max': 3000}, 'SWIR2')\n",
    "Map\n"
   ]
  }
 ],
 "metadata": {
  "kernelspec": {
   "display_name": "Python 3",
   "language": "python",
   "name": "python3"
  },
  "language_info": {
   "codemirror_mode": {
    "name": "ipython",
    "version": 3
   },
   "file_extension": ".py",
   "mimetype": "text/x-python",
   "name": "python",
   "nbconvert_exporter": "python",
   "pygments_lexer": "ipython3",
   "version": "3.11.0"
  }
 },
 "nbformat": 4,
 "nbformat_minor": 2
}
