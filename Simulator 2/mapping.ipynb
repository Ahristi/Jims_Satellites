{
 "cells": [
  {
   "cell_type": "code",
   "execution_count": 1,
   "metadata": {},
   "outputs": [
    {
     "name": "stderr",
     "output_type": "stream",
     "text": [
      "Simulating : 100%|█████████▉| 99.9537037037069/100 [03:37<00:00,  1.96s/it]   c:\\Users\\Tom\\AppData\\Local\\Programs\\Python\\Python311\\Lib\\site-packages\\tqdm\\std.py:639: TqdmWarning: clamping frac to range [0, 1]\n",
      "  full_bar = Bar(frac,\n",
      "Simulating : 100%|██████████| 100.00000000000321/100 [03:37<00:00,  2.17s/it]\n"
     ]
    }
   ],
   "source": [
    "\n",
    "import numpy as np\n",
    "import palettable \n",
    "import numpy as np\n",
    "from Satellite import *\n",
    "from Simulator import *\n",
    "\n",
    "\n",
    "sat1 = Satellite(\"Satellites/sat1.txt\", \"SAT1\")\n",
    "sat2 = Satellite(\"Satellites/sat2.txt\", \"SAT2\")\n",
    "sat3 = Satellite(\"Satellites/sat3.txt\", \"SAT3\")\n",
    "sat4 = Satellite(\"Satellites/sat4.txt\", \"SAT4\")\n",
    "sat5 = Satellite(\"Satellites/sat5.txt\", \"SAT5\")\n",
    "sat6 = Satellite(\"Satellites/sat6.txt\", \"SAT6\")  \n",
    "sat7 = Satellite(\"Satellites/sat7.txt\", \"SAT7\")\n",
    "sat8 = Satellite(\"Satellites/sat8.txt\", \"SAT8\")\n",
    "sat9 = Satellite(\"Satellites/sat9.txt\", \"SAT9\")  \n",
    "sat10 = Satellite(\"Satellites/sat10.txt\", \"SAT10\")\n",
    "sat11 = Satellite(\"Satellites/sat11.txt\", \"SAT11\")\n",
    "sat12 = Satellite(\"Satellites/sat12.txt\", \"SAT12\")\n",
    "sim = Simulator([sat1], [])\n",
    "sim.simulate(0,6*60*60, 5, motionEquation)\n",
    "mappingArray= [] \n"
   ]
  },
  {
   "cell_type": "code",
   "execution_count": 4,
   "metadata": {},
   "outputs": [
    {
     "data": {
      "text/html": [
       "\n",
       "            <style>\n",
       "                .geemap-dark {\n",
       "                    --jp-widgets-color: white;\n",
       "                    --jp-widgets-label-color: white;\n",
       "                    --jp-ui-font-color1: white;\n",
       "                    --jp-layout-color2: #454545;\n",
       "                    background-color: #383838;\n",
       "                }\n",
       "                    \n",
       "                .geemap-dark .jupyter-button {\n",
       "                    --jp-layout-color3: #383838;\n",
       "                }\n",
       "                \n",
       "                .geemap-colab {\n",
       "                    background-color: var(--colab-primary-surface-color, white);\n",
       "                }\n",
       "                    \n",
       "                .geemap-colab .jupyter-button {\n",
       "                    --jp-layout-color3: var(--colab-primary-surface-color, white);\n",
       "                }\n",
       "            </style>\n",
       "            "
      ],
      "text/plain": [
       "<IPython.core.display.HTML object>"
      ]
     },
     "metadata": {},
     "output_type": "display_data"
    },
    {
     "name": "stdout",
     "output_type": "stream",
     "text": [
      "The provided color (000000,FF0000) is invalid. Using the default black color.\n",
      "'#000000,FF0000' is not in web format. Need 3 or 6 hex digit.\n"
     ]
    },
    {
     "data": {
      "application/vnd.jupyter.widget-view+json": {
       "model_id": "71b66d79b15149be92757baee230b28a",
       "version_major": 2,
       "version_minor": 0
      },
      "text/plain": [
       "Map(center=[0, 0], controls=(WidgetControl(options=['position', 'transparent_bg'], widget=SearchDataGUI(childr…"
      ]
     },
     "execution_count": 4,
     "metadata": {},
     "output_type": "execute_result"
    }
   ],
   "source": [
    "import geemap\n",
    "import folium\n",
    "import ee\n",
    "import os\n",
    "service_account = \"jims-948@jimssatellites.iam.gserviceaccount.com\"\n",
    "key_path = 'jimssatellites-25b0240d5cf2.json'\n",
    "credentials = ee.ServiceAccountCredentials(service_account, key_path)\n",
    "ee.Initialize(credentials=credentials)\n",
    "\n",
    "\n",
    "\n",
    "count = 0\n",
    "import csv\n",
    "\n",
    "for sat in sim.satellites:\n",
    "    csv_file = \"BOUNDING_SAT1\"\n",
    "    with open(csv_file, mode='w', newline='') as file:\n",
    "        writer = csv.writer(file)        \n",
    "        for image in  sat.payload.images:\n",
    "            coord1 = list(image[0][0:2])\n",
    "            coord2 = list(image[1][0:2])\n",
    "            coord3 = list(image[2][0:2])\n",
    "            coord4 = list(image[3][0:2])\n",
    "            coord1.reverse()\n",
    "            coord2.reverse()\n",
    "            coord3.reverse()\n",
    "            coord4.reverse()\n",
    "          \n",
    "            bounding = [coord1[0], coord1[1],  coord4[0], coord4[1]]\n",
    "        \n",
    "            writer.writerow(bounding)\n",
    "            roi = ee.Geometry.Rectangle([[coord1[0], coord1[1]],  [coord4[0], coord4[1]]])\n",
    "            newFeature = ee.Feature(roi, {'name': str(count)})\n",
    "            count = count+1\n",
    "            mappingArray.append(newFeature)\n",
    "\n",
    "\n",
    "# Create an interactive map\n",
    "Map = geemap.Map(center=[0, 0], zoom=2)\n",
    "mappedArea = ee.FeatureCollection(mappingArray)\n",
    "NSW = ee.Geometry.Rectangle([[144.81577841465915, -36.42295520530404], [155.81727106335805, -27.806830550620564]])\n",
    "# Create an image collection for Sentinel-2 data\n",
    "start_date = '2019-06-01'\n",
    "end_date = '2020-05-31'\n",
    "sentinel2_collection = (ee.ImageCollection('COPERNICUS/S2_SR')\n",
    "                        .filterDate(ee.Date(start_date), ee.Date(end_date))\n",
    "                        .filterBounds(mappedArea)\n",
    "                        .select('B.*|MSK_CLDPRB|SCL')\n",
    ")\n",
    "burnedArea = ee.Image('projects/jimssatellites/assets/fires')\n",
    "nir = sentinel2_collection.select('B8')  # Near-Infrared Band (B8)\n",
    "swir1 = sentinel2_collection.select('B11')  # Short-Wave Infrared Band 1 (B11)\n",
    "swir2 = sentinel2_collection.select('B12')  # Short-Wave Infrared Band 2 (B12)\n",
    "\n",
    "\n",
    "##CREATE THE BLACK MASK\n",
    "\n",
    "roi = ee.Geometry.Rectangle([ 146,-35.36,  158.6, -30.83])\n",
    "#I have no idea why, but for some reason this just paints everything so I'm gonna cop for now\n",
    "mask = ee.Image(0).toInt8().paint(roi, 1)\n",
    "fc = ee.FeatureCollection(mappingArray)\n",
    "# Fill and outline the polygons in two colors\n",
    "filled = mask.paint(fc, 2)\n",
    "both = filled.paint(fc, 1, 5)\n",
    "# Mask off everything that matches the fill color.\n",
    "result = both.mask(filled.neq(2))\n",
    "\n",
    "\n",
    "\n",
    "\n",
    "\n",
    "\n",
    "nir_palette = ['000000', '330000', '660000', '990000', 'CC0000', 'FF0000', 'FF1900', 'FF3200', 'FF4B00', 'FF6400',\n",
    "              'FF7D00', 'FF9600', 'FFAF00', 'FFC800', 'FFE100', 'FFFF00']\n",
    "# Create a visualization palette\n",
    "vis_params = {\n",
    "    'min': 0,\n",
    "    'max': 3000,\n",
    "    'bands': ['B8', 'B11', 'B12']\n",
    "}\n",
    "# Define visualization parameters for each band\n",
    "nir_vis_params = {\n",
    "    'min': 0,\n",
    "    'max': 10000,\n",
    "    'palette': nir_palette  # Apply the custom color palette for NIR\n",
    "}\n",
    "#Map.addLayer(sentinel2_collection, vis_params, 'Sentinel-2 Image')\n",
    "#Map.addLayer(nir, nir_vis_params, 'NIR')\n",
    "\n",
    "#Short wave infrared\n",
    "Map.addLayer(swir1, nir_vis_params, 'SWIR1')\n",
    "\n",
    "\n",
    "#Burned Area\n",
    "Map.addLayer(burnedArea)\n",
    "\n",
    "#Black mask\n",
    "Map.addLayer(result, {\n",
    "    'palette': '000000,FF0000',\n",
    "    'max': 1,\n",
    "    'opacity': 1.0\n",
    "}, 'Opaque White Rectangle')\n",
    "#Map.addLayer(swir2, {'min': 0, 'max': 3000}, 'SWIR2')\n",
    "Map\n"
   ]
  }
 ],
 "metadata": {
  "kernelspec": {
   "display_name": "Python 3",
   "language": "python",
   "name": "python3"
  },
  "language_info": {
   "codemirror_mode": {
    "name": "ipython",
    "version": 3
   },
   "file_extension": ".py",
   "mimetype": "text/x-python",
   "name": "python",
   "nbconvert_exporter": "python",
   "pygments_lexer": "ipython3",
   "version": "3.11.0"
  }
 },
 "nbformat": 4,
 "nbformat_minor": 2
}
