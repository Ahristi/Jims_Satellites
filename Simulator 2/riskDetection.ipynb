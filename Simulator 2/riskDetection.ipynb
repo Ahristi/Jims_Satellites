{
 "cells": [
  {
   "cell_type": "code",
   "execution_count": 1,
   "metadata": {},
   "outputs": [],
   "source": [
    "import geemap\n",
    "import folium\n",
    "import ee\n",
    "import os\n",
    "\n",
    "\n",
    "import numpy as np\n",
    "import palettable \n",
    "import numpy as np\n",
    "from Satellite import *\n",
    "from Simulator import *\n",
    "service_account = \"jims-948@jimssatellites.iam.gserviceaccount.com\"\n",
    "key_path = 'jimssatellites-25b0240d5cf2.json'\n",
    "credentials = ee.ServiceAccountCredentials(service_account, key_path)\n",
    "ee.Initialize(credentials=credentials)\n",
    "\n",
    "\n",
    "count = 0\n",
    "import csv\n",
    "sat1 = Satellite(\"Satellites/sat1.txt\", \"SAT1\")\n",
    "sat2 = Satellite(\"Satellites/sat2.txt\", \"SAT2\")\n",
    "sat3 = Satellite(\"Satellites/sat3.txt\", \"SAT3\")\n",
    "sat4 = Satellite(\"Satellites/sat4.txt\", \"SAT4\")\n",
    "sat5 = Satellite(\"Satellites/sat5.txt\", \"SAT5\")\n",
    "sat6 = Satellite(\"Satellites/sat6.txt\", \"SAT6\")  \n",
    "sat7 = Satellite(\"Satellites/sat7.txt\", \"SAT7\")\n",
    "sat8 = Satellite(\"Satellites/sat8.txt\", \"SAT8\")\n",
    "sat9 = Satellite(\"Satellites/sat9.txt\", \"SAT9\")  \n",
    "sat10 = Satellite(\"Satellites/sat10.txt\", \"SAT10\")\n",
    "sat11 = Satellite(\"Satellites/sat11.txt\", \"SAT11\")\n",
    "sat12 = Satellite(\"Satellites/sat12.txt\", \"SAT12\")\n",
    "\n",
    "satellites = [sat1,sat2,sat3,sat4,sat5,sat6,sat7,sat8,sat9,sat10,sat11,sat12]\n",
    "\n",
    "count = 0\n",
    "mappingArray = []\n",
    "for sat in satellites:\n",
    "    csv_file = \"RESULTS_\"+sat.name+\".csv\"\n",
    "    count \n",
    "    with open(csv_file, mode='r', newline='') as file:\n",
    "        reader = csv.reader(file)  \n",
    "        i = 0\n",
    "        for row in reader:\n",
    "            coord1a, coord1b,  coord4a, coord4b, error = [float(param) for param in row]\n",
    "            roi = ee.Geometry.Rectangle([[coord1a, coord1b],  [coord4a, coord4b]])\n",
    "            newFeature = ee.Feature(roi, {'name': str(count)})\n",
    "            count = count+1\n",
    "            mappingArray.append(newFeature)\n",
    "            count+=1\n",
    "\n",
    "\n"
   ]
  },
  {
   "cell_type": "code",
   "execution_count": 2,
   "metadata": {},
   "outputs": [
    {
     "data": {
      "text/html": [
       "\n",
       "            <style>\n",
       "                .geemap-dark {\n",
       "                    --jp-widgets-color: white;\n",
       "                    --jp-widgets-label-color: white;\n",
       "                    --jp-ui-font-color1: white;\n",
       "                    --jp-layout-color2: #454545;\n",
       "                    background-color: #383838;\n",
       "                }\n",
       "                    \n",
       "                .geemap-dark .jupyter-button {\n",
       "                    --jp-layout-color3: #383838;\n",
       "                }\n",
       "                \n",
       "                .geemap-colab {\n",
       "                    background-color: var(--colab-primary-surface-color, white);\n",
       "                }\n",
       "                    \n",
       "                .geemap-colab .jupyter-button {\n",
       "                    --jp-layout-color3: var(--colab-primary-surface-color, white);\n",
       "                }\n",
       "            </style>\n",
       "            "
      ],
      "text/plain": [
       "<IPython.core.display.HTML object>"
      ]
     },
     "metadata": {},
     "output_type": "display_data"
    }
   ],
   "source": [
    "\n",
    "# Create an interactive map\n",
    "Map = geemap.Map(center=[0, 0], zoom=2)\n",
    "\n",
    "#Satellite mapped area\n",
    "mappedArea = ee.FeatureCollection(mappingArray)\n",
    "\n",
    "\n",
    "#NSW bounding box\n",
    "NSW = ee.Geometry.Rectangle([[144.81577841465915, -36.42295520530404], [155.81727106335805, -27.806830550620564]])\n",
    "\n",
    "\n",
    "# Create an image collection for Sentinel-2 data\n",
    "start_date = '2019-06-01'\n",
    "end_date = '2020-05-31'\n",
    "sentinel2_collection = (ee.ImageCollection('COPERNICUS/S2_SR')\n",
    "                        .filterDate(ee.Date(start_date), ee.Date(end_date))\n",
    "                        .filterBounds(mappedArea)\n",
    "                        .select('B.*|MSK_CLDPRB|SCL')\n",
    ")\n",
    "\n",
    "#Get the historic burned area dataset\n",
    "burnedArea = ee.Image('projects/jimssatellites/assets/fires')\n",
    "\n",
    "#Sentinel2 Short wave infrared\n",
    "swir1 = sentinel2_collection.select('B11')  # Short-Wave Infrared Band 1 (B11)\n",
    "\n",
    "\n",
    "##CREATE THE BLACK MASK\n",
    "roi = ee.Geometry.Rectangle([ 146,-35.36,  158.6, -30.83])\n",
    "#I have no idea why, but for some reason this just paints everything so I'm gonna cop for now\n",
    "mask = ee.Image(0).toInt8().paint(roi, 1)\n",
    "fc = ee.FeatureCollection(mappingArray)\n",
    "# Fill and outline the polygons in two colors\n",
    "filled = mask.paint(fc, 2)\n",
    "both = filled.paint(fc, 1, 5)\n",
    "# Mask off everything that matches the fill color.\n",
    "result = both.mask(filled.neq(2))\n",
    "\n",
    "\n",
    "nir_palette = ['000000', '330000', '660000', '990000', 'CC0000', 'FF0000', 'FF1900', 'FF3200', 'FF4B00', 'FF6400',\n",
    "              'FF7D00', 'FF9600', 'FFAF00', 'FFC800', 'FFE100', 'FFFF00']\n",
    "\n",
    "#Combine the sentinel2 data and Jims satellites data\n",
    "swir1_mosaic = swir1.mosaic()\n",
    "swir1_mosaic = swir1_mosaic.visualize(**{'bands': 'B11', 'min': 0,'max': 10000, 'palette': nir_palette})\n",
    "mask = result.visualize(**{'palette': '000000,FF0000','max': 10000,'opacity': 1.0})\n",
    "mosaic = ee.ImageCollection([swir1_mosaic, mask]).mosaic()\n",
    "\n",
    "\n",
    "#Add the historic data to its own mosaic\n",
    "burnedVisParams = {\n",
    "    'min': 0,\n",
    "    'max': 255,\n",
    "    'palette': [  'fcffa4', 'f2f482', 'f3e35a', 'f8cf3a', 'fbbc21', 'fca80d', 'fb9606',\n",
    "  'f8850f', 'f2741c', 'eb6429', 'e15635', 'd54a41', 'c83f4b', 'bc3754',\n",
    "  'ad305d', '9d2964', '8d2369', '7d1e6d', '6d186e', '5d126e', '4f0d6c',\n",
    "  '3e0966', '2d0b59', '1c0c43', '0e092b', '040314', '000004']\n",
    "}\n",
    "roi = ee.Geometry.Rectangle([ 146,-35.36,  158.6, -30.83], None, False)\n",
    "burnedAreaViz = burnedArea.visualize(**burnedVisParams)\n",
    "historic_mosaic = ee.ImageCollection([swir1_mosaic, burnedAreaViz, mask]).mosaic()\n",
    "\n"
   ]
  },
  {
   "cell_type": "code",
   "execution_count": 5,
   "metadata": {},
   "outputs": [
    {
     "data": {
      "text/html": [
       "\n",
       "            <style>\n",
       "                .geemap-dark {\n",
       "                    --jp-widgets-color: white;\n",
       "                    --jp-widgets-label-color: white;\n",
       "                    --jp-ui-font-color1: white;\n",
       "                    --jp-layout-color2: #454545;\n",
       "                    background-color: #383838;\n",
       "                }\n",
       "                    \n",
       "                .geemap-dark .jupyter-button {\n",
       "                    --jp-layout-color3: #383838;\n",
       "                }\n",
       "                \n",
       "                .geemap-colab {\n",
       "                    background-color: var(--colab-primary-surface-color, white);\n",
       "                }\n",
       "                    \n",
       "                .geemap-colab .jupyter-button {\n",
       "                    --jp-layout-color3: var(--colab-primary-surface-color, white);\n",
       "                }\n",
       "            </style>\n",
       "            "
      ],
      "text/plain": [
       "<IPython.core.display.HTML object>"
      ]
     },
     "metadata": {},
     "output_type": "display_data"
    },
    {
     "name": "stdout",
     "output_type": "stream",
     "text": [
      "Generating URL ...\n",
      "Downloading data from https://earthengine.googleapis.com/v1/projects/earthengine-legacy/thumbnails/d6856de773c40c34b14c25f7a55a989f-8c0500fbc6a9112b8d3ab08ef2ad3962:getPixels\n",
      "Please wait ...\n",
      "Data downloaded to c:\\Users\\Tom\\Documents\\Uni\\AERO3760\\Jims_Satellites\\Simulator 2\\piliga_historic.tif\n"
     ]
    },
    {
     "data": {
      "application/vnd.jupyter.widget-view+json": {
       "model_id": "8af39ac3a9a747f4adafe13475421439",
       "version_major": 2,
       "version_minor": 0
      },
      "text/plain": [
       "Map(bottom=39018.0, center=[-31.043521630684204, 870.5073341869054], controls=(WidgetControl(options=['positio…"
      ]
     },
     "execution_count": 5,
     "metadata": {},
     "output_type": "execute_result"
    }
   ],
   "source": [
    "from PIL import Image as im \n",
    "\n",
    "current_directory = os.getcwd()\n",
    "out_dir = os.path.join(current_directory)\n",
    "\n",
    "\n",
    "\n",
    "\n",
    "comleroy = [  150.78448429,-33.38,  151.2087900435, -33.0931176]\n",
    "yaouk = [148.7428497953762, -35.96021682698345, 149.0150704273652, -35.71831894036284]\n",
    "piliga =[148.99253089357404,-31.069826237629815, 149.57756512477508, -30.659188247907124]\n",
    "filename = os.path.join(out_dir, 'piliga_historic.tif')\n",
    "roi = ee.Geometry.Rectangle(piliga, None, False)\n",
    "image = historic_mosaic.clip(roi).unmask()\n",
    "geemap.ee_export_image(\n",
    "    image, filename=filename, scale=50, region=roi, file_per_band=False\n",
    ")\n",
    "\n",
    "\n",
    "#Visualise the mapped result\n",
    "Map.addLayer(mosaic, {}, 'Mosaic')\n",
    "Map.addLayer(historic_mosaic, {}, \"historic_mosaic\")\n",
    "Map\n"
   ]
  }
 ],
 "metadata": {
  "kernelspec": {
   "display_name": "Python 3",
   "language": "python",
   "name": "python3"
  },
  "language_info": {
   "codemirror_mode": {
    "name": "ipython",
    "version": 3
   },
   "file_extension": ".py",
   "mimetype": "text/x-python",
   "name": "python",
   "nbconvert_exporter": "python",
   "pygments_lexer": "ipython3",
   "version": "3.11.0"
  }
 },
 "nbformat": 4,
 "nbformat_minor": 2
}
