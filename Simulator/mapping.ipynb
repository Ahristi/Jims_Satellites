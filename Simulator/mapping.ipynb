{
 "cells": [
  {
   "cell_type": "code",
   "execution_count": 1,
   "metadata": {},
   "outputs": [
    {
     "name": "stderr",
     "output_type": "stream",
     "text": [
      "Simulating :  10%|█         | 10.324074074074293/100 [1:59:24<10:15:45, 411.99s/it]    "
     ]
    }
   ],
   "source": [
    "import ee\n",
    "import numpy as np\n",
    "import os\n",
    "import palettable \n",
    "import numpy as np\n",
    "from Satellite import *\n",
    "from Simulator import *\n",
    "\n",
    "service_account = \"jims-948@jimssatellites.iam.gserviceaccount.com\"\n",
    "key_path = 'jimssatellites-25b0240d5cf2.json'\n",
    "credentials = ee.ServiceAccountCredentials(service_account, key_path)\n",
    "ee.Initialize(credentials=credentials)\n",
    "import geemap\n",
    "import folium\n",
    "\n",
    "\n",
    "\n",
    "sat1 = Satellite(\"Satellites/sat1.txt\", \"SAT1\")\n",
    "sat2 = Satellite(\"Satellites/sat2.txt\", \"SAT2\")\n",
    "sat3 = Satellite(\"Satellites/sat3.txt\", \"SAT3\")\n",
    "sat4 = Satellite(\"Satellites/sat4.txt\", \"SAT4\")\n",
    "sat5 = Satellite(\"Satellites/sat5.txt\", \"SAT5\")\n",
    "sat6 = Satellite(\"Satellites/sat6.txt\", \"SAT6\")  \n",
    "sat7 = Satellite(\"Satellites/sat7.txt\", \"SAT7\")\n",
    "sat8 = Satellite(\"Satellites/sat8.txt\", \"SAT8\")\n",
    "sat9 = Satellite(\"Satellites/sat9.txt\", \"SAT9\")\n",
    "sat10 = Satellite(\"Satellites/sat10.txt\", \"SAT10\")\n",
    "sat11 = Satellite(\"Satellites/sat11.txt\", \"SAT11\")\n",
    "sat12 = Satellite(\"Satellites/sat12.txt\", \"SAT12\")\n",
    "sim = Simulator([sat1,sat2,sat3,sat4,sat5,sat6,sat7,sat8,sat9,sat10,sat11,sat12], [])\n",
    "sim.simulate(0,6*60*60, 1, motionEquation)\n",
    "mappingArray= [] \n"
   ]
  },
  {
   "cell_type": "code",
   "execution_count": 34,
   "metadata": {},
   "outputs": [
    {
     "data": {
      "text/html": [
       "\n",
       "            <style>\n",
       "                .geemap-dark {\n",
       "                    --jp-widgets-color: white;\n",
       "                    --jp-widgets-label-color: white;\n",
       "                    --jp-ui-font-color1: white;\n",
       "                    --jp-layout-color2: #454545;\n",
       "                    background-color: #383838;\n",
       "                }\n",
       "                    \n",
       "                .geemap-dark .jupyter-button {\n",
       "                    --jp-layout-color3: #383838;\n",
       "                }\n",
       "                \n",
       "                .geemap-colab {\n",
       "                    background-color: var(--colab-primary-surface-color, white);\n",
       "                }\n",
       "                    \n",
       "                .geemap-colab .jupyter-button {\n",
       "                    --jp-layout-color3: var(--colab-primary-surface-color, white);\n",
       "                }\n",
       "            </style>\n",
       "            "
      ],
      "text/plain": [
       "<IPython.core.display.HTML object>"
      ]
     },
     "metadata": {},
     "output_type": "display_data"
    },
    {
     "name": "stdout",
     "output_type": "stream",
     "text": [
      "The provided color (000000,FF0000) is invalid. Using the default black color.\n",
      "'#000000,FF0000' is not in web format. Need 3 or 6 hex digit.\n"
     ]
    },
    {
     "data": {
      "application/vnd.jupyter.widget-view+json": {
       "model_id": "4a72b5f53d70453f893f157101bee756",
       "version_major": 2,
       "version_minor": 0
      },
      "text/plain": [
       "Map(center=[0, 0], controls=(WidgetControl(options=['position', 'transparent_bg'], widget=SearchDataGUI(childr…"
      ]
     },
     "execution_count": 34,
     "metadata": {},
     "output_type": "execute_result"
    }
   ],
   "source": [
    "\n",
    "count = 0\n",
    "\n",
    "for sat in sim.satellites:\n",
    "    for image in  sat.payload.images:\n",
    "        coord1 = list(image[0][0:2])\n",
    "        coord2 = list(image[1][0:2])\n",
    "        coord3 = list(image[2][0:2])\n",
    "        coord4 = list(image[3][0:2])\n",
    "        coord1.reverse()\n",
    "        coord2.reverse()\n",
    "        coord3.reverse()\n",
    "        coord4.reverse()\n",
    "        bounding = [coord1[0], coord1[1],  coord4[0], coord4[1]]\n",
    "\n",
    "        roi = ee.Geometry.Rectangle(bounding)\n",
    "        newFeature = ee.Feature(roi, {'name': str(count)})\n",
    "\n",
    "        count = count+1\n",
    "        mappingArray.append(newFeature)\n",
    "\n",
    "# Create an interactive map\n",
    "Map = geemap.Map(center=[0, 0], zoom=2)\n",
    "Map.add_basemap(\"NASAGIBS.BlueMarble\")\n",
    "#Get rid of text\n",
    "Map.setOptions(ui_inspector_enabled=False, ui_layers=False)\n",
    "\n",
    "\n",
    "#Create region of interest\n",
    "roi = ee.Geometry.Rectangle([ 146,-35.36,  158.6, -30.83])\n",
    "#I have no idea why, but for some reason this just paints everything so I'm gonna cop for now\n",
    "mask = ee.Image(0).toInt8().paint(roi, 1)\n",
    "fc = ee.FeatureCollection(mappingArray)\n",
    "\n",
    "# Fill and outline the polygons in two colors\n",
    "filled = mask.paint(fc, 2)\n",
    "both = filled.paint(fc, 1, 5)\n",
    "# Mask off everything that matches the fill color.\n",
    "result = both.mask(filled.neq(2))\n",
    "\n",
    "TERN = ee.ImageCollection('TERN/AET/CMRSET_LANDSAT_V2_2')\n",
    "\n",
    "\n",
    "\n",
    "\n",
    "\n",
    "\n",
    "out_dir = os.path.expanduser('~/Downloads/GEEBAM')\n",
    "GB = os.path.join(out_dir, 'GEEBAM_v3p1_dNBR_Classes.tif')\n",
    "# Add layer to map\n",
    "Map.add_raster(GB, band =1, palette = 'inferno',  layer_name = \"GEEBAM\")\n",
    "\n",
    "\n",
    "#Rain fall data\n",
    "dataset = ee.ImageCollection('TERN/AET/CMRSET_LANDSAT_V2_2')\n",
    "\n",
    "\n",
    "visualization = {\n",
    "    'bands': ['ETa'],\n",
    "    'min': 0,\n",
    "    'max': 7,\n",
    "    'palette': ['d7191c', 'fdae61', 'ffffbf', 'abd9e9', '2c7bb6']\n",
    "}\n",
    "# Add the layer to the map\n",
    "#Map.addLayer(dataset, visualization, 'Average daily evapotranspiration (mm/day)')\n",
    "\n",
    "\n",
    "Map.addLayer(result, {\n",
    "    'palette': '000000,FF0000',\n",
    "    'max': 1,\n",
    "    'opacity': 1.0\n",
    "}, 'Opaque White Rectangle')\n",
    "\n",
    "\n",
    "\n",
    "\n",
    "collection = ee.ImageCollection([])\n",
    "\n",
    "Map\n"
   ]
  }
 ],
 "metadata": {
  "kernelspec": {
   "display_name": "Python 3",
   "language": "python",
   "name": "python3"
  },
  "language_info": {
   "codemirror_mode": {
    "name": "ipython",
    "version": 3
   },
   "file_extension": ".py",
   "mimetype": "text/x-python",
   "name": "python",
   "nbconvert_exporter": "python",
   "pygments_lexer": "ipython3",
   "version": "3.11.0"
  }
 },
 "nbformat": 4,
 "nbformat_minor": 2
}
