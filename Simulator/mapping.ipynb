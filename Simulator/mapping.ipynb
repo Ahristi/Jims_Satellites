{
 "cells": [
  {
   "cell_type": "code",
   "execution_count": 41,
   "metadata": {},
   "outputs": [
    {
     "data": {
      "text/html": [
       "\n",
       "            <style>\n",
       "                .geemap-dark {\n",
       "                    --jp-widgets-color: white;\n",
       "                    --jp-widgets-label-color: white;\n",
       "                    --jp-ui-font-color1: white;\n",
       "                    --jp-layout-color2: #454545;\n",
       "                    background-color: #383838;\n",
       "                }\n",
       "                    \n",
       "                .geemap-dark .jupyter-button {\n",
       "                    --jp-layout-color3: #383838;\n",
       "                }\n",
       "                \n",
       "                .geemap-colab {\n",
       "                    background-color: var(--colab-primary-surface-color, white);\n",
       "                }\n",
       "                    \n",
       "                .geemap-colab .jupyter-button {\n",
       "                    --jp-layout-color3: var(--colab-primary-surface-color, white);\n",
       "                }\n",
       "            </style>\n",
       "            "
      ],
      "text/plain": [
       "<IPython.core.display.HTML object>"
      ]
     },
     "metadata": {},
     "output_type": "display_data"
    },
    {
     "name": "stderr",
     "output_type": "stream",
     "text": [
      "Simulating : 100%|█████████▉| 99.99999999997506/100 [06:50<00:00,  4.11s/it]   \n"
     ]
    }
   ],
   "source": [
    "import ee\n",
    "import numpy as np\n",
    "import os\n",
    "import palettable \n",
    "import numpy as np\n",
    "from Satellite import *\n",
    "from Simulator import *\n",
    "\n",
    "service_account = \"jims-948@jimssatellites.iam.gserviceaccount.com\"\n",
    "key_path = 'jimssatellites-25b0240d5cf2.json'\n",
    "credentials = ee.ServiceAccountCredentials(service_account, key_path)\n",
    "ee.Initialize(credentials=credentials)\n",
    "import geemap\n",
    "import folium\n",
    "\n",
    "\n",
    "\n",
    "sat = Satellite(\"sat1.txt\", \"ISS\")\n",
    "sim = Simulator([sat], [])\n",
    "sim.simulate(0,3*60*60, 1, motionEquation)\n",
    "mappingArray= []\n"
   ]
  },
  {
   "cell_type": "code",
   "execution_count": 40,
   "metadata": {},
   "outputs": [
    {
     "data": {
      "text/html": [
       "\n",
       "            <style>\n",
       "                .geemap-dark {\n",
       "                    --jp-widgets-color: white;\n",
       "                    --jp-widgets-label-color: white;\n",
       "                    --jp-ui-font-color1: white;\n",
       "                    --jp-layout-color2: #454545;\n",
       "                    background-color: #383838;\n",
       "                }\n",
       "                    \n",
       "                .geemap-dark .jupyter-button {\n",
       "                    --jp-layout-color3: #383838;\n",
       "                }\n",
       "                \n",
       "                .geemap-colab {\n",
       "                    background-color: var(--colab-primary-surface-color, white);\n",
       "                }\n",
       "                    \n",
       "                .geemap-colab .jupyter-button {\n",
       "                    --jp-layout-color3: var(--colab-primary-surface-color, white);\n",
       "                }\n",
       "            </style>\n",
       "            "
      ],
      "text/plain": [
       "<IPython.core.display.HTML object>"
      ]
     },
     "metadata": {},
     "output_type": "display_data"
    },
    {
     "name": "stdout",
     "output_type": "stream",
     "text": [
      "The provided color (000000,FF0000) is invalid. Using the default black color.\n",
      "'#000000,FF0000' is not in web format. Need 3 or 6 hex digit.\n"
     ]
    },
    {
     "data": {
      "application/vnd.jupyter.widget-view+json": {
       "model_id": "b287e2d0470942848e1cdd5a4bf89459",
       "version_major": 2,
       "version_minor": 0
      },
      "text/plain": [
       "Map(center=[0, 0], controls=(WidgetControl(options=['position', 'transparent_bg'], widget=SearchDataGUI(childr…"
      ]
     },
     "execution_count": 40,
     "metadata": {},
     "output_type": "execute_result"
    }
   ],
   "source": [
    "\n",
    "count = 0\n",
    "for image in  sat.payload.images:\n",
    "    coord1 = list(image[0][0:2])\n",
    "    coord2 = list(image[1][0:2])\n",
    "    coord3 = list(image[2][0:2])\n",
    "    coord4 = list(image[3][0:2])\n",
    "    coord1.reverse()\n",
    "    coord2.reverse()\n",
    "    coord3.reverse()\n",
    "    coord4.reverse()\n",
    "    bounding = [coord1[0], coord1[1],  coord4[0], coord4[1]]\n",
    "\n",
    "    roi = ee.Geometry.Rectangle(bounding)\n",
    "    newFeature = ee.Feature(roi, {'name': str(count)})\n",
    "\n",
    "    count = count+1\n",
    "    mappingArray.append(newFeature)\n",
    "\n",
    "# Create an interactive map\n",
    "Map = geemap.Map(center=[0, 0], zoom=2)\n",
    "\n",
    "\n",
    "#Create region of interest\n",
    "roi = ee.Geometry.Rectangle([ 146,-35.36,  158.6, -30.83])\n",
    "roi2 = ee.Geometry.Rectangle([ 150,-35.36,  178.6, -30.83])\n",
    "roi3 = ee.Geometry.Polygon(\n",
    "        [[120, -35.36],\n",
    "         [150, 0],\n",
    "         [170, 0],\n",
    "         [146, 5]])\n",
    "\n",
    "#I have no idea why, but for some reason this just paints everything so I'm gonna cop for now\n",
    "mask = ee.Image(0).toInt8().paint(roi, 1)\n",
    "\n",
    "\n",
    "# Create a feature collection\n",
    "fc = ee.FeatureCollection([\n",
    "    # Create features using ee.Geometry.Point, ee.Geometry.Polygon, etc.\n",
    "    ee.Feature(roi, {'name': 'Mapped Area'}),\n",
    "    ee.Feature(roi2, {'name': 'Mapped Area 2'}),\n",
    "    ee.Feature(roi3, {'name': 'Mapped Area 3'})\n",
    "    \n",
    "])\n",
    "\n",
    "fc = ee.FeatureCollection(mappingArray)\n",
    "\n",
    "# Fill and outline the polygons in two colors\n",
    "filled = mask.paint(fc, 2)\n",
    "both = filled.paint(fc, 1, 5)\n",
    "# Mask off everything that matches the fill color.\n",
    "result = both.mask(filled.neq(2))\n",
    "\n",
    "\n",
    "out_dir = os.path.expanduser('~/Downloads/GEEBAM')\n",
    "\n",
    "GB = os.path.join(out_dir, 'GEEBAM_v3p1_dNBR_Classes.tif')\n",
    "\n",
    "# Add layer to map\n",
    "\n",
    "Map.add_raster(GB, band =1, palette = 'inferno',  layer_name = \"GEEBAM\")\n",
    "Map.addLayer(result, {\n",
    "    'palette': '000000,FF0000',\n",
    "    'max': 1,\n",
    "    'opacity': 0.5\n",
    "}, 'Opaque White Rectangle')\n",
    "\n",
    "Map\n"
   ]
  }
 ],
 "metadata": {
  "kernelspec": {
   "display_name": "Python 3",
   "language": "python",
   "name": "python3"
  },
  "language_info": {
   "codemirror_mode": {
    "name": "ipython",
    "version": 3
   },
   "file_extension": ".py",
   "mimetype": "text/x-python",
   "name": "python",
   "nbconvert_exporter": "python",
   "pygments_lexer": "ipython3",
   "version": "3.11.0"
  }
 },
 "nbformat": 4,
 "nbformat_minor": 2
}
