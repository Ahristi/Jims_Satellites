{
 "cells": [
  {
   "cell_type": "code",
   "execution_count": 6,
   "metadata": {},
   "outputs": [
    {
     "data": {
      "text/html": [
       "\n",
       "            <style>\n",
       "                .geemap-dark {\n",
       "                    --jp-widgets-color: white;\n",
       "                    --jp-widgets-label-color: white;\n",
       "                    --jp-ui-font-color1: white;\n",
       "                    --jp-layout-color2: #454545;\n",
       "                    background-color: #383838;\n",
       "                }\n",
       "                    \n",
       "                .geemap-dark .jupyter-button {\n",
       "                    --jp-layout-color3: #383838;\n",
       "                }\n",
       "                \n",
       "                .geemap-colab {\n",
       "                    background-color: var(--colab-primary-surface-color, white);\n",
       "                }\n",
       "                    \n",
       "                .geemap-colab .jupyter-button {\n",
       "                    --jp-layout-color3: var(--colab-primary-surface-color, white);\n",
       "                }\n",
       "            </style>\n",
       "            "
      ],
      "text/plain": [
       "<IPython.core.display.HTML object>"
      ]
     },
     "metadata": {},
     "output_type": "display_data"
    },
    {
     "data": {
      "application/vnd.jupyter.widget-view+json": {
       "model_id": "1cde9240909e421fa65c6efa8b3609e3",
       "version_major": 2,
       "version_minor": 0
      },
      "text/plain": [
       "Map(center=[-21.1434, 149.1868], controls=(WidgetControl(options=['position', 'transparent_bg'], widget=Search…"
      ]
     },
     "execution_count": 6,
     "metadata": {},
     "output_type": "execute_result"
    }
   ],
   "source": [
    "import ee\n",
    "import numpy as np\n",
    "import os\n",
    "service_account = \"jims-948@jimssatellites.iam.gserviceaccount.com\"\n",
    "key_path = 'jimssatellites-25b0240d5cf2.json'\n",
    "credentials = ee.ServiceAccountCredentials(service_account, key_path)\n",
    "ee.Initialize(credentials=credentials)\n",
    "import geemap\n",
    "import folium\n",
    "# Set some points of interest\n",
    "# Mackay, Qld\n",
    "lat = -21.1434\n",
    "lon = 149.1868\n",
    "# Get URL for our image\n",
    "Data_Set_Clearing = ee.ImageCollection(\"WRI/GFW/FORMA/raw_output_firms\")\n",
    "#Click on the down arrows to see the dataset.\n",
    "Data_Set_Clearing\n",
    "\n",
    "\n",
    "\n",
    "# Create an interactive map\n",
    "Map = geemap.Map(center=[lat, lon], zoom=7)\n",
    "\n",
    "\n",
    "out_dir = os.path.expanduser('~/Downloads')\n",
    "\n",
    "GB = os.path.join(out_dir, 'GEEBAM.tif')\n",
    "\n",
    "# Define the dataset\n",
    "dataset = ee.ImageCollection('WRI/GFW/FORMA/raw_output_firms')\\\n",
    ".filter(ee.Filter.date('2018-08-01', '2018-08-15'))\n",
    "# Select the 'nday' band\n",
    "percentageOfClearing = dataset.select('nday')\n",
    "# Visualization parameters\n",
    "visParams = {\n",
    "'min': 0.0,\n",
    "'max': 0.01\n",
    "}\n",
    "# Add layer to map\n",
    "Map.addLayer(percentageOfClearing, visParams, 'Percentage of clearing')\n",
    "Map.add_raster(GB, layer_name = \"GEEBAM\")\n",
    "# Show the map\n",
    "Map"
   ]
  }
 ],
 "metadata": {
  "kernelspec": {
   "display_name": "Python 3",
   "language": "python",
   "name": "python3"
  },
  "language_info": {
   "codemirror_mode": {
    "name": "ipython",
    "version": 3
   },
   "file_extension": ".py",
   "mimetype": "text/x-python",
   "name": "python",
   "nbconvert_exporter": "python",
   "pygments_lexer": "ipython3",
   "version": "3.11.0"
  }
 },
 "nbformat": 4,
 "nbformat_minor": 2
}
